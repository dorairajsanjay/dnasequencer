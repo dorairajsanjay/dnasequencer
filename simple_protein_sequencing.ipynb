{
 "cells": [
  {
   "cell_type": "markdown",
   "metadata": {},
   "source": [
    "# Flow of Genetic Information\n",
    "\n",
    "The following sequence contains a gene. Identify its start and end, then perform transcription and translation, describe the processed and the sequences of mRNA and peptide.\n",
    "\n",
    "Gene sequence:\n",
    "\n",
    "TGCATATAGCGATGCGAACGGTTGACTGAGGCGGA\n"
   ]
  },
  {
   "cell_type": "code",
   "execution_count": 33,
   "metadata": {
    "collapsed": true
   },
   "outputs": [],
   "source": [
    "s=\"TGCATATAGCGATGCGAACGGTTGACTGAGGCGGA\""
   ]
  },
  {
   "cell_type": "code",
   "execution_count": 34,
   "metadata": {
    "collapsed": false
   },
   "outputs": [],
   "source": [
    "startCodons = [\"ATG\"]\n",
    "stopCodons = [\"TAG\",\"TAA\",\"TGA\"]"
   ]
  },
  {
   "cell_type": "code",
   "execution_count": 35,
   "metadata": {
    "collapsed": false
   },
   "outputs": [
    {
     "name": "stdout",
     "output_type": "stream",
     "text": [
      "start_codon:ATG, position:11\n"
     ]
    }
   ],
   "source": [
    "# get start codon\n",
    "start_codon = None\n",
    "start_codon_position = None\n",
    "\n",
    "for i in range(len(s)):\n",
    "    codon = s[i:i+3]\n",
    "    if codon in startCodons:\n",
    "        start_codon = codon\n",
    "        start_codon_position = i\n",
    "        \n",
    "        print \"start_codon:%s, position:%d\" % (start_codon,start_codon_position)"
   ]
  },
  {
   "cell_type": "code",
   "execution_count": 36,
   "metadata": {
    "collapsed": false
   },
   "outputs": [
    {
     "name": "stdout",
     "output_type": "stream",
     "text": [
      "codon     :ATG\n",
      "codon     :CGA\n",
      "codon     :ACG\n",
      "codon     :GTT\n",
      "codon     :GAC\n",
      "stop-codon:TGA\n"
     ]
    }
   ],
   "source": [
    "# get codon count\n",
    "codons = []\n",
    "for i in range(11,len(s),3):\n",
    "    \n",
    "    codon = s[i:i+3]\n",
    "    \n",
    "    if codon in stopCodons:\n",
    "        print \"%-10s:%s\" % (\"stop-codon\",codon)\n",
    "        codons.append(codon)\n",
    "        break\n",
    "    else:\n",
    "        print \"%-10s:%s\" % (\"codon\",codon)\n",
    "        codons.append(codon)"
   ]
  },
  {
   "cell_type": "code",
   "execution_count": 37,
   "metadata": {
    "collapsed": false
   },
   "outputs": [
    {
     "name": "stdout",
     "output_type": "stream",
     "text": [
      "['UAC', 'GCU', 'UGC', 'CAA', 'CUG', 'ACU']\n"
     ]
    }
   ],
   "source": [
    "# transcribe DNA sequence into mRNA\n",
    "mrna_dna_rules = {\"A\":\"U\",\"T\":\"A\",\"G\":\"C\",\"C\":\"G\"}\n",
    "\n",
    "# mrna codons\n",
    "mrna_codons = []\n",
    "\n",
    "# create corresponding MRNA codons\n",
    "for codon in codons:\n",
    "    mrna_codon = \"\".join(map(lambda x:mrna_transcribe_rules[x],codon))\n",
    "    mrna_codons.append(mrna_codon)\n",
    "    \n",
    "print mrna_codons"
   ]
  },
  {
   "cell_type": "code",
   "execution_count": 38,
   "metadata": {
    "collapsed": false
   },
   "outputs": [
    {
     "name": "stdout",
     "output_type": "stream",
     "text": [
      "['AUG', 'CGA', 'ACG', 'GUU', 'GAC', 'UGA']\n"
     ]
    }
   ],
   "source": [
    "# translation\n",
    "trna_mrna_rules = {\"A\":\"U\",\"U\":\"A\",\"G\":\"C\",\"C\":\"G\"}\n",
    "\n",
    "# trna codons\n",
    "trna_codons = []\n",
    "\n",
    "# create corresponding TRNA codons\n",
    "for codon in mrna_codons:\n",
    "    trna_codon = \"\".join(map(lambda x:trna_mrna_rules[x],codon))\n",
    "    trna_codons.append(trna_codon)\n",
    "    \n",
    "print trna_codons\n",
    "\n"
   ]
  },
  {
   "cell_type": "code",
   "execution_count": 43,
   "metadata": {
    "collapsed": false
   },
   "outputs": [],
   "source": [
    "# get the amino acids\n",
    "amino_acids_selector = {\n",
    "    \"UUU\":\"phenylalanine\",\"UUC\":\"phenylalanine\",\"UUA\":\"leucine\",\"UUG\":\"leucine\",\n",
    "    \"UCU\":\"serine\",\"UCC\":\"serine\",\"UCA\":\"serine\",\"UCG\":\"serine\",\n",
    "    \"UAU\":\"tyrosine\",\"UAC\":\"tyrosine\",\"UAA\":\"stop\",\"UAG\":\"stop\",\n",
    "    \"UGU\":\"cysteine\",\"UGC\":\"cysteine\",\"UGA\":\"stop\",\"UGG\":\"tryptophan\",\n",
    "    \"CUU\":\"leucine\",\"CUC\":\"leucine\",\"CUA\":\"leucine\",\"CUG\":\"leucine\",\n",
    "    \"CCU\":\"proline\",\"CCC\":\"proline\",\"CCA\":\"proline\",\"CCG\":\"proline\",\n",
    "    \"CAU\":\"histidine\",\"CAC\":\"histidine\",\"CAA\":\"glutamine\",\"CAG\":\"glutamine\",\n",
    "    \"CGU\":\"arginine\",\"CGC\":\"arginine\",\"CGA\":\"arginine\",\"CGG\":\"arginine\",\n",
    "    \"AUU\":\"isoleucine\",\"AUC\":\"isoleucine\",\"AUA\":\"isoleucine\",\"AUG\":\"methionine\",\n",
    "    \"ACU\":\"threonine\",\"ACC\":\"threonine\",\"ACA\":\"threonine\",\"ACG\":\"threonine\",\n",
    "    \"AAU\":\"asparagine\",\"AAC\":\"asparagine\",\"AAA\":\"lysine\",\"AAG\":\"lysine\",\n",
    "    \"AGU\":\"serine\",\"AGC\":\"serine\",\"AGA\":\"arginine\",\"AGG\":\"arginine\",\n",
    "    \"GUU\":\"valine\",\"GUC\":\"valine\",\"GUA\":\"valine\",\"GUG\":\"valine\",\n",
    "    \"GCU\":\"alanine\",\"GCC\":\"alanine\",\"GCA\":\"alanine\",\"GCG\":\"alanine\",\n",
    "    \"GAU\":\"aspartic\",\"GAC\":\"aspartic\",\"GAA\":\"glutamic\",\"GAG\":\"glutamic\",\n",
    "    \"GGU\":\"glycine\",\"GGC\":\"glycine\",\"GGA\":\"glycine\",\"GGG\":\"glycine\"\n",
    "    }\n"
   ]
  },
  {
   "cell_type": "code",
   "execution_count": 51,
   "metadata": {
    "collapsed": false
   },
   "outputs": [
    {
     "name": "stdout",
     "output_type": "stream",
     "text": [
      "tRNA: AUG,  Protein: methionine\n",
      "tRNA: CGA,  Protein: arginine  \n",
      "tRNA: ACG,  Protein: threonine \n",
      "tRNA: GUU,  Protein: valine    \n",
      "tRNA: GAC,  Protein: aspartic  \n"
     ]
    }
   ],
   "source": [
    "# find the corresponding proteins\n",
    "\n",
    "for codon in trna_codons:\n",
    "    \n",
    "    if amino_acids_selector[codon] == \"stop\":\n",
    "        break\n",
    "        \n",
    "    print \"tRNA:%4s,  Protein: %-10s\" % (codon,amino_acids_selector[codon])"
   ]
  },
  {
   "cell_type": "code",
   "execution_count": null,
   "metadata": {
    "collapsed": true
   },
   "outputs": [],
   "source": []
  }
 ],
 "metadata": {
  "kernelspec": {
   "display_name": "Python 2",
   "language": "python",
   "name": "python2"
  },
  "language_info": {
   "codemirror_mode": {
    "name": "ipython",
    "version": 2
   },
   "file_extension": ".py",
   "mimetype": "text/x-python",
   "name": "python",
   "nbconvert_exporter": "python",
   "pygments_lexer": "ipython2",
   "version": "2.7.12"
  }
 },
 "nbformat": 4,
 "nbformat_minor": 2
}
